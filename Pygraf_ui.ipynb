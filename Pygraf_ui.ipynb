{
 "cells": [
  {
   "cell_type": "code",
   "execution_count": 2,
   "id": "bbc480cf",
   "metadata": {},
   "outputs": [],
   "source": [
    "from PyQt5 import QtCore, QtGui, QtWidgets\n",
    "\n",
    "class Ui_MainWindow(object):\n",
    "    def setupUi(self, MainWindow):\n",
    "        MainWindow.setObjectName(\"MainWindow\")\n",
    "        MainWindow.resize(834, 543)\n",
    "        self.centralwidget = QtWidgets.QWidget(MainWindow)\n",
    "        self.centralwidget.setObjectName(\"centralwidget\")\n",
    "        self.verticalLayout = QtWidgets.QVBoxLayout(self.centralwidget)\n",
    "        self.verticalLayout.setObjectName(\"verticalLayout\")\n",
    "        self.graph_layout = QtWidgets.QVBoxLayout()\n",
    "        self.graph_layout.setObjectName(\"graph_layout\")\n",
    "        self.verticalLayout.addLayout(self.graph_layout)\n",
    "        self.btn = QtWidgets.QPushButton(self.centralwidget)\n",
    "        self.btn.setObjectName(\"btn\")\n",
    "        self.verticalLayout.addWidget(self.btn)\n",
    "        MainWindow.setCentralWidget(self.centralwidget)\n",
    "        self.menubar = QtWidgets.QMenuBar(MainWindow)\n",
    "        self.menubar.setGeometry(QtCore.QRect(0, 0, 834, 23))\n",
    "        self.menubar.setObjectName(\"menubar\")\n",
    "        MainWindow.setMenuBar(self.menubar)\n",
    "        self.statusbar = QtWidgets.QStatusBar(MainWindow)\n",
    "        self.statusbar.setObjectName(\"statusbar\")\n",
    "        MainWindow.setStatusBar(self.statusbar)\n",
    "\n",
    "        self.retranslateUi(MainWindow)\n",
    "        QtCore.QMetaObject.connectSlotsByName(MainWindow)\n",
    "\n",
    "    def retranslateUi(self, MainWindow):\n",
    "        _translate = QtCore.QCoreApplication.translate\n",
    "        MainWindow.setWindowTitle(_translate(\"MainWindow\", \"MainWindow\"))\n",
    "        self.btn.setText (_translate (\"MainWindow\", \"Начать рисование\"))"
   ]
  },
  {
   "cell_type": "code",
   "execution_count": null,
   "id": "40308068",
   "metadata": {},
   "outputs": [],
   "source": []
  }
 ],
 "metadata": {
  "kernelspec": {
   "display_name": "Python 3",
   "language": "python",
   "name": "python3"
  },
  "language_info": {
   "codemirror_mode": {
    "name": "ipython",
    "version": 3
   },
   "file_extension": ".py",
   "mimetype": "text/x-python",
   "name": "python",
   "nbconvert_exporter": "python",
   "pygments_lexer": "ipython3",
   "version": "3.8.8"
  }
 },
 "nbformat": 4,
 "nbformat_minor": 5
}
