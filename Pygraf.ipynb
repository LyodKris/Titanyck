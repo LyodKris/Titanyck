{
 "cells": [
  {
   "cell_type": "code",
   "execution_count": 1,
   "id": "4cf0c326",
   "metadata": {},
   "outputs": [
    {
     "ename": "SystemExit",
     "evalue": "0",
     "output_type": "error",
     "traceback": [
      "An exception has occurred, use %tb to see the full traceback.\n",
      "\u001b[1;31mSystemExit\u001b[0m\u001b[1;31m:\u001b[0m 0\n"
     ]
    },
    {
     "name": "stderr",
     "output_type": "stream",
     "text": [
      "C:\\D\\Anakonda3\\lib\\site-packages\\IPython\\core\\interactiveshell.py:3445: UserWarning: To exit: use 'exit', 'quit', or Ctrl-D.\n",
      "  warn(\"To exit: use 'exit', 'quit', or Ctrl-D.\", stacklevel=1)\n"
     ]
    }
   ],
   "source": [
    "import sys\n",
    "import numpy as np\n",
    "from PyQt5 import QtWidgets\n",
    "import pyqtgraph as pg\n",
    "import pandas as pd\n",
    "\n",
    "from Pygraf_ui import Ui_MainWindow\n",
    "\n",
    "\n",
    "class MyGraphWindow(QtWidgets.QMainWindow, Ui_MainWindow):\n",
    "\n",
    "    def __init__(self):\n",
    "        super(MyGraphWindow, self).__init__()\n",
    "        self.setupUi (self) # Инициализировать окно\n",
    "        self.p1, self.p2 = self.set_graph_ui () # Установить окно рисования\n",
    "        self.btn.clicked.connect (self.plot_sin_cos) # Нажмите кнопку, чтобы начать рисование\n",
    "    \n",
    "    def set_graph_ui(self):\n",
    "        pg.setConfigOptions (antialias = True) # функция установки глобальной переменной pyqtgraph, antialias = True включает сглаживание кривой\n",
    "        win = pg.GraphicsLayoutWidget () # Создать макет pg для реализации автоматического управления макетом интерфейса данных\n",
    "        # pg Drawing window может быть добавлен как виджет в graph_layout в графическом интерфейсе, конечно, его также можно добавить во все другие контейнеры в Qt\n",
    "        self.graph_layout.addWidget(win)\n",
    "        p1 = win.addPlot (title = \"Age\") # Добавляем первое окно графика\n",
    "        p1.setLabel ('left', text = 'meg', color = '# aaaaaa') # функция настройки оси Y\n",
    "        p1.showGrid (x = False, y = True) # Функция настройки сетки\n",
    "        p1.setLogMode (x = False, y = False) # False представляет линейную ось, True представляет логарифмическую ось\n",
    "        p1.setLabel ('bottom', text = 'time', units = 's') # функция установки оси x\n",
    "        # p1.addLegend () # Возможность добавления легенды\n",
    "        win.nextRow () # Макет переносит, принимает вертикальное расположение, не добавляет эту строку, горизонтальное расположение по умолчанию\n",
    "        p2 = win.addPlot (title = \"Fare\")\n",
    "        p2.setLabel('left', text='meg', color='# cccccc')\n",
    "        p2.showGrid(x=False, y=True)\n",
    "        p2.setLogMode(x=False, y=False)\n",
    "        p2.setLabel('bottom', text='time', units='s')\n",
    "        # p2.addLegend()\n",
    "        \n",
    "        return p1, p2\n",
    "\n",
    "    def plot_sin_cos(self):\n",
    "        data = pd.read_csv('titanic.csv', delimiter=',')\n",
    "        index = range(len(data))\n",
    "        age = data.Age\n",
    "        fare = data.Fare\n",
    "        x = [1, 2, 3, 4, 5, 6, 7]\n",
    "        y = [1, 0.2, 3, 45, 5, 6]\n",
    "        plt1.plot(x, y, stepMode=True, fillLevel=0, brush=(0,0,255,150))\n",
    "        self.p1.plot(index, age, pen='g', name='Age', clear=True)\n",
    "        self.p2.plot(index, fare, pen='g', name='Fare', clear=True)\n",
    "        # self.p1.legend = None # Повторное рисование - очистить легенду\n",
    "        # self.p2.legend = None\n",
    "\n",
    "if __name__ == '__main__':\n",
    "    app = QtWidgets.QApplication(sys.argv)\n",
    "    myWin = MyGraphWindow()\n",
    "    myWin.show()\n",
    "    sys.exit(app.exec_())"
   ]
  },
  {
   "cell_type": "code",
   "execution_count": null,
   "id": "c961c2d7",
   "metadata": {},
   "outputs": [],
   "source": []
  }
 ],
 "metadata": {
  "kernelspec": {
   "display_name": "Python 3",
   "language": "python",
   "name": "python3"
  }
 },
 "nbformat": 4,
 "nbformat_minor": 5
}
